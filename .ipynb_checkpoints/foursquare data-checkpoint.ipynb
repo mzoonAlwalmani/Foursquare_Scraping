{
 "cells": [
  {
   "cell_type": "markdown",
   "metadata": {},
   "source": [
    "# API and webscrapping for Foursquare"
   ]
  },
  {
   "cell_type": "markdown",
   "metadata": {},
   "source": [
    "Foursquare is a local search-and-discovery mobile app. The app provides personalized recommendations of places to go near a user's current location based on users previous browsing history and check-in history.\n",
    "\n",
    "This data was collected using venues endpoint of Foursquare API. It contains details data of the venues in Riyadh city (Nov-2019), including the name, address, likes, rating, categories and more.\n",
    "\n",
    "See here for more details about venues endpoint : https://developer.foursquare.com/docs/api/venues/details\n",
    "\n",
    "\n",
    "There is a lot you can do with this data set. you can see what types of venues get more ratings and likes, what categories of venues are more likely to be visited in a certain time, you can study the overall behavior of people in Riyadh city. "
   ]
  },
  {
   "cell_type": "code",
   "execution_count": 1,
   "metadata": {},
   "outputs": [],
   "source": [
    "#import\n",
    "import pandas as pd\n",
    "import foursquare"
   ]
  },
  {
   "cell_type": "code",
   "execution_count": 15,
   "metadata": {},
   "outputs": [],
   "source": [
    "# Construct the client object\n",
    "client = foursquare.Foursquare(client_id='', client_secret='', redirect_uri='http://fondu.com/oauth/authorize')\n",
    "\n",
    "# Build the authorization url for your app\n",
    "auth_uri = client.oauth.auth_url()"
   ]
  },
  {
   "cell_type": "code",
   "execution_count": 3,
   "metadata": {},
   "outputs": [],
   "source": [
    "#list of lat and lng to cover Riyadh city\n",
    "lls=['24.774265,46.738586',\n",
    "    '24.8260967,46.7484399',\n",
    "    '24.8095071,46.6729062',\n",
    "    '24.7814533,46.6035979',\n",
    "    '24.7988011,46.7850383',\n",
    "    '24.7619308,46.6933349',\n",
    "    '24.7355036,46.6260983',\n",
    "    '24.7611459,46.8004901',\n",
    "    '24.7128417,46.7100004',\n",
    "    '24.6854466,46.6243770',\n",
    "    '24.7051727,46.8215656',\n",
    "    '24.6679739,46.7319644',\n",
    "    '24.6679739,46.7319644',\n",
    "    '24.6298277,46.7387158']\n",
    "\n",
    "#list of sections of places\n",
    "sections=['food','drinks','coffee','shops','arts', 'outdoors', 'sights']"
   ]
  },
  {
   "cell_type": "code",
   "execution_count": 231,
   "metadata": {},
   "outputs": [],
   "source": [
    "# collect the venues ids for all ll and sections\n",
    "venues_ids=[]\n",
    "for section in sections:\n",
    "    for ll in lls:\n",
    "        venues=client.venues.explore(params={'section': section, 'll': ll,'limit':'50'})['groups'][0]['items']\n",
    "        for venue in venues:\n",
    "            venues_ids.append(venue['venue']['id'])       "
   ]
  },
  {
   "cell_type": "code",
   "execution_count": 232,
   "metadata": {},
   "outputs": [],
   "source": [
    "#delete duplicates\n",
    "venues_ids = list(dict.fromkeys(venues_ids))"
   ]
  },
  {
   "cell_type": "code",
   "execution_count": 233,
   "metadata": {},
   "outputs": [],
   "source": [
    "venues_ids2=[]\n",
    "for ll in lls:\n",
    "    venues=client.venues.search(params={'query': 'coffee', 'll': ll,'limit':'50'})['venues']\n",
    "    for venue in venues:\n",
    "        venues_ids2.append(venue['id']) "
   ]
  },
  {
   "cell_type": "code",
   "execution_count": 234,
   "metadata": {},
   "outputs": [],
   "source": [
    "venues_ids2 = list(dict.fromkeys(venues_ids2))"
   ]
  },
  {
   "cell_type": "code",
   "execution_count": 235,
   "metadata": {},
   "outputs": [],
   "source": [
    "missing=[]\n",
    "for x in venues_ids2:\n",
    "    if x not in venues_ids:\n",
    "        missing.append(x)        "
   ]
  },
  {
   "cell_type": "code",
   "execution_count": 236,
   "metadata": {},
   "outputs": [],
   "source": [
    "venues_ids= venues_ids+ missing"
   ]
  },
  {
   "cell_type": "code",
   "execution_count": 252,
   "metadata": {},
   "outputs": [],
   "source": [
    "#create dataframe of venues ids\n",
    "ids_df = pd.DataFrame({'venues_id': venues_ids})"
   ]
  },
  {
   "cell_type": "code",
   "execution_count": 254,
   "metadata": {},
   "outputs": [],
   "source": [
    "#save the venues_ids to csv file to use it later \n",
    "ids_df.to_csv(r'venues_ids.csv',index=False)"
   ]
  },
  {
   "cell_type": "code",
   "execution_count": 4,
   "metadata": {},
   "outputs": [],
   "source": [
    "# function to get venues details and return dataframe\n",
    "def get_venues(venues_ids):\n",
    "    venues_id=[]\n",
    "    name=[]\n",
    "    address=[]\n",
    "    crossStreet=[]\n",
    "    lat=[]\n",
    "    lng=[]\n",
    "    cc=[]\n",
    "    city=[]\n",
    "    country=[]\n",
    "    categories=[]\n",
    "    verified=[]\n",
    "    tip_count=[]\n",
    "    url=[]\n",
    "    price_tier=[]\n",
    "    price_message=[]\n",
    "    price_currency=[]\n",
    "    likes=[]\n",
    "    rating=[]\n",
    "    photos=[]\n",
    "    description=[]\n",
    "    lists=[]\n",
    "    hours=[]\n",
    "    popular_hours=[]\n",
    "    attributes=[]\n",
    "    tips=[]\n",
    "\n",
    "\n",
    "    for _id in venues_ids:\n",
    "        \n",
    "        venue=''\n",
    "        venue=client.venues(_id)['venue']          \n",
    "            \n",
    "        try:\n",
    "            venues_id.append(venue['id'])\n",
    "        except:\n",
    "            venues_id.append('')\n",
    "    \n",
    "        try:\n",
    "            name.append(venue['name'])\n",
    "        except:\n",
    "            name.append('')\n",
    "        \n",
    "        try:\n",
    "            address.append(venue['location']['address'])\n",
    "        except:\n",
    "            address.append('')\n",
    "        \n",
    "        try:\n",
    "            crossStreet.append(venue['location']['crossStreet'])\n",
    "        except:\n",
    "            crossStreet.append('')\n",
    "        \n",
    "        try:\n",
    "            lat.append(venue['location']['lat'])\n",
    "        except:\n",
    "            lat.append('')\n",
    "        \n",
    "        try:\n",
    "            lng.append(venue['location']['lng'])\n",
    "        except:\n",
    "            lng.append('')\n",
    "        \n",
    "        try:\n",
    "            cc.append(venue['location']['cc'])\n",
    "        except:\n",
    "            cc.append('')\n",
    "        \n",
    "        try:\n",
    "            city.append(venue['location']['city'])\n",
    "        except:\n",
    "            city.append('')\n",
    "        \n",
    "        try:\n",
    "            country.append(venue['location']['country'])\n",
    "        except:\n",
    "            country.append('')\n",
    "        \n",
    "        try:\n",
    "            cat_str=''\n",
    "            for c in venue['categories']:\n",
    "                cat_str = cat_str +'\"'+c['name']+'\"'\n",
    "            categories.append(cat_str)\n",
    "        except:\n",
    "            categories.append('')\n",
    "        \n",
    "        try:\n",
    "            verified.append(venue['verified'])\n",
    "        except:\n",
    "            verified.append('')\n",
    "    \n",
    "        try:\n",
    "            tip_count.append(venue['stats']['tipCount'])\n",
    "        except:\n",
    "            tip_count.append('')\n",
    "    \n",
    "        try:\n",
    "            url.append(venue['url'])\n",
    "        except:\n",
    "            url.append('')\n",
    "        \n",
    "        try:\n",
    "            price_tier.append(venue['price']['tier'])\n",
    "        except:\n",
    "            price_tier.append('')      \n",
    "    \n",
    "        try:\n",
    "            price_message.append(venue['price']['message'])\n",
    "        except:\n",
    "            price_message.append('') \n",
    "        \n",
    "        try:\n",
    "            price_currency.append(venue['price']['currency'])\n",
    "        except:\n",
    "            price_currency.append('')  \n",
    "    \n",
    "        try:\n",
    "            likes.append(venue['likes']['count'])\n",
    "        except:\n",
    "            likes.append('')\n",
    "\n",
    "        try:\n",
    "            rating.append(venue['rating'])\n",
    "        except:\n",
    "            rating.append('')\n",
    "        \n",
    "        try:\n",
    "            photos.append(venue['photos']['count'])\n",
    "        except:\n",
    "            photos.append('')\n",
    "        \n",
    "        try:\n",
    "            description.append(venue['description'])\n",
    "        except:\n",
    "            description.append('')\n",
    "        \n",
    "        try:\n",
    "            list_str=''\n",
    "            for l in venue['listed']['groups']:\n",
    "                for ll in l['items']:\n",
    "                    list_str = list_str +'\"'+ll['name']+'\"'\n",
    "            lists.append(list_str)\n",
    "        except:\n",
    "            lists.append('')\n",
    "\n",
    "        try:\n",
    "            time_str=''\n",
    "            for d in venue['hours']['timeframes']:\n",
    "                time_str=time_str +'\"'+d['days']+' '\n",
    "                for t in d['open']: \n",
    "                    time_str=time_str+t['renderedTime']+' '\n",
    "                time_str=time_str+'\"'\n",
    "            hours.append(time_str)\n",
    "        except:\n",
    "            hours.append('')\n",
    "        \n",
    "        try:\n",
    "            time_str=''\n",
    "            for d in venue['popular']['timeframes']:\n",
    "                time_str=time_str +'\"'+d['days']+' '\n",
    "                for t in d['open']: \n",
    "                    time_str=time_str+t['renderedTime']+' '\n",
    "                time_str=time_str+'\"'\n",
    "            popular_hours.append(time_str)\n",
    "        except:\n",
    "            popular_hours.append('')\n",
    "        \n",
    "        try:\n",
    "            attributes_str=''\n",
    "            for a in venue['attributes']['groups']:\n",
    "                for i in a['items']: \n",
    "                    attributes_str=attributes_str+'\"'+i['displayName']+' : '\n",
    "                    attributes_str=attributes_str+i['displayValue']+'\"'\n",
    "            attributes.append(attributes_str)\n",
    "        except:\n",
    "            attributes.append('')\n",
    "        \n",
    "    \n",
    "    venues = pd.DataFrame(\n",
    "    {'venues_id': venues_id,\n",
    "     'name': name,\n",
    "     'address': address,\n",
    "     'crossStreet': crossStreet,\n",
    "     'lat': lat,\n",
    "     'lng': lng,\n",
    "     'cc': cc,\n",
    "     'city': city,\n",
    "     'country': country,\n",
    "     'categories': categories,\n",
    "     'verified': verified,\n",
    "     'tip_count':tip_count,\n",
    "     'url': url,\n",
    "     'price_tier': price_tier,\n",
    "     'price_message': price_message,\n",
    "     'price_currency': price_currency,\n",
    "     'likes': likes,\n",
    "     'rating': rating,\n",
    "     'photos': photos,\n",
    "     'description': description,\n",
    "     'lists': lists,\n",
    "     'hours': hours,\n",
    "     'popular_hours': popular_hours,\n",
    "     'attributes': attributes\n",
    "    })\n",
    "    \n",
    "    return venues"
   ]
  },
  {
   "cell_type": "code",
   "execution_count": 5,
   "metadata": {},
   "outputs": [],
   "source": [
    "#read csv file of ids that was saved earliar\n",
    "ids_df=pd.read_csv('venues_ids.csv')"
   ]
  },
  {
   "cell_type": "code",
   "execution_count": 6,
   "metadata": {},
   "outputs": [],
   "source": [
    "all_venues_ids=ids_df['venues_id']"
   ]
  },
  {
   "cell_type": "code",
   "execution_count": 7,
   "metadata": {},
   "outputs": [
    {
     "data": {
      "text/plain": [
       "2618"
      ]
     },
     "execution_count": 7,
     "metadata": {},
     "output_type": "execute_result"
    }
   ],
   "source": [
    "#number of ids (The Foursquare API has a limit of 99,500 Regular API Calls per day and 500 Premium API Calls per day)\n",
    "len(all_venues_ids)"
   ]
  },
  {
   "cell_type": "code",
   "execution_count": 12,
   "metadata": {},
   "outputs": [],
   "source": [
    "# 6 days to get all the data\n",
    "venues_ids_1=all_venues_ids[0:500]\n",
    "venues_ids_2=all_venues_ids[500:1000]\n",
    "venues_ids_3=all_venues_ids[1000:1500]\n",
    "venues_ids_4=all_venues_ids[1500:2000]\n",
    "venues_ids_5=all_venues_ids[2000:2500]\n",
    "venues_ids_6=all_venues_ids[2500:]"
   ]
  },
  {
   "cell_type": "code",
   "execution_count": 13,
   "metadata": {},
   "outputs": [
    {
     "data": {
      "text/plain": [
       "(500, 500, 500, 500, 500, 118)"
      ]
     },
     "execution_count": 13,
     "metadata": {},
     "output_type": "execute_result"
    }
   ],
   "source": [
    "len(venues_ids_1), len(venues_ids_2), len(venues_ids_3), len(venues_ids_4), len(venues_ids_5), len(venues_ids_6)"
   ]
  },
  {
   "cell_type": "code",
   "execution_count": 311,
   "metadata": {},
   "outputs": [],
   "source": [
    "venues_1=get_venues(venues_ids_1)\n",
    "venues_1.to_csv(r'venues_1.csv',index=False)"
   ]
  },
  {
   "cell_type": "code",
   "execution_count": 39,
   "metadata": {},
   "outputs": [
    {
     "name": "stdout",
     "output_type": "stream",
     "text": [
      "<class 'pandas.core.frame.DataFrame'>\n",
      "RangeIndex: 500 entries, 0 to 499\n",
      "Data columns (total 24 columns):\n",
      "venues_id         500 non-null object\n",
      "name              500 non-null object\n",
      "address           443 non-null object\n",
      "crossStreet       366 non-null object\n",
      "lat               500 non-null float64\n",
      "lng               500 non-null float64\n",
      "cc                500 non-null object\n",
      "city              481 non-null object\n",
      "country           500 non-null object\n",
      "categories        500 non-null object\n",
      "verified          500 non-null bool\n",
      "tip_count         500 non-null int64\n",
      "url               360 non-null object\n",
      "price_tier        485 non-null object\n",
      "price_message     485 non-null object\n",
      "price_currency    485 non-null object\n",
      "likes             500 non-null int64\n",
      "rating            500 non-null float64\n",
      "photos            500 non-null int64\n",
      "description       309 non-null object\n",
      "lists             466 non-null object\n",
      "hours             360 non-null object\n",
      "popular_hours     450 non-null object\n",
      "attributes        497 non-null object\n",
      "dtypes: bool(1), float64(3), int64(3), object(17)\n",
      "memory usage: 90.4+ KB\n"
     ]
    }
   ],
   "source": [
    "venues_1.info()"
   ]
  },
  {
   "cell_type": "code",
   "execution_count": 16,
   "metadata": {},
   "outputs": [],
   "source": [
    "venues_2=get_venues(venues_ids_2)\n",
    "venues_2.to_csv(r'venues_2.csv',index=False)"
   ]
  },
  {
   "cell_type": "code",
   "execution_count": 25,
   "metadata": {},
   "outputs": [],
   "source": [
    "venues_3=get_venues(venues_ids_3)\n",
    "venues_3.to_csv(r'venues_3.csv',index=False)"
   ]
  },
  {
   "cell_type": "code",
   "execution_count": null,
   "metadata": {},
   "outputs": [],
   "source": [
    "venues_4=get_venues(venues_ids_4)\n",
    "venues_4.to_csv(r'venues_4.csv',index=False)"
   ]
  },
  {
   "cell_type": "code",
   "execution_count": null,
   "metadata": {},
   "outputs": [],
   "source": [
    "venues_5=get_venues(venues_ids_5)\n",
    "venues_5.to_csv(r'venues_5.csv',index=False)"
   ]
  },
  {
   "cell_type": "code",
   "execution_count": null,
   "metadata": {},
   "outputs": [],
   "source": [
    "venues_6=get_venues(venues_ids_6)\n",
    "venues_6.to_csv(r'venues_6.csv',index=False)"
   ]
  },
  {
   "cell_type": "code",
   "execution_count": 26,
   "metadata": {},
   "outputs": [],
   "source": [
    "venues_all=pd.read_csv('venues_all.csv')"
   ]
  },
  {
   "cell_type": "code",
   "execution_count": 27,
   "metadata": {},
   "outputs": [
    {
     "data": {
      "text/plain": [
       "(1000, 24)"
      ]
     },
     "execution_count": 27,
     "metadata": {},
     "output_type": "execute_result"
    }
   ],
   "source": [
    "venues_all.shape"
   ]
  },
  {
   "cell_type": "code",
   "execution_count": 28,
   "metadata": {},
   "outputs": [],
   "source": [
    "all_venues=pd.concat([venues_all, venues_3], axis=0).reset_index(drop = True)"
   ]
  },
  {
   "cell_type": "code",
   "execution_count": 29,
   "metadata": {},
   "outputs": [
    {
     "data": {
      "text/plain": [
       "(1500, 24)"
      ]
     },
     "execution_count": 29,
     "metadata": {},
     "output_type": "execute_result"
    }
   ],
   "source": [
    "all_venues.shape"
   ]
  },
  {
   "cell_type": "code",
   "execution_count": 30,
   "metadata": {},
   "outputs": [],
   "source": [
    "all_venues.to_csv(r'venues_1500.csv',index=False)"
   ]
  },
  {
   "cell_type": "code",
   "execution_count": null,
   "metadata": {},
   "outputs": [],
   "source": []
  }
 ],
 "metadata": {
  "kernelspec": {
   "display_name": "Python 3",
   "language": "python",
   "name": "python3"
  },
  "language_info": {
   "codemirror_mode": {
    "name": "ipython",
    "version": 3
   },
   "file_extension": ".py",
   "mimetype": "text/x-python",
   "name": "python",
   "nbconvert_exporter": "python",
   "pygments_lexer": "ipython3",
   "version": "3.7.2"
  }
 },
 "nbformat": 4,
 "nbformat_minor": 2
}
